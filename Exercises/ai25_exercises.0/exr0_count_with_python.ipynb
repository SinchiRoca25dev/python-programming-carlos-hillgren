{
 "cells": [
  {
   "cell_type": "markdown",
   "id": "61a9060b",
   "metadata": {},
   "source": [
    "\n",
    "# 1. Pythagoras sats\n",
    "\n",
    " - a) räkna ut hypotenusan av en rätvinklig triangel. Ena kateten a = 3 och b = 4 l.e.\n",
    "\n",
    "- b) en rätvinklig triangel har hypotenusan = 7.0 och kateten a = 5.0 l.e. Beräkna längden på katet b. En decimals noggranhet.\n"
   ]
  },
  {
   "cell_type": "markdown",
   "id": "299337d0",
   "metadata": {},
   "source": [
    "\n",
    "##### Uppgigft a\n"
   ]
  },
  {
   "cell_type": "code",
   "execution_count": 2,
   "id": "1cd750a6",
   "metadata": {},
   "outputs": [
    {
     "name": "stdout",
     "output_type": "stream",
     "text": [
      "Hypotenusan är 5.0 l.e.\n"
     ]
    }
   ],
   "source": [
    "# Uppgift A) Räkna ut hypotenusan\n",
    "import math\n",
    "\n",
    "a = 3\n",
    "b = 4\n",
    "#Hypotenusan --> a2 + b2 = c2\n",
    "c = pow(a,2)+ pow(b,2)\n",
    "hypotenusan = math.sqrt(c)\n",
    "print(f\"Hypotenusan är {hypotenusan} l.e.\")"
   ]
  },
  {
   "cell_type": "markdown",
   "id": "ba554ab0",
   "metadata": {},
   "source": [
    "\n",
    "##### Uppgift b"
   ]
  },
  {
   "cell_type": "code",
   "execution_count": 3,
   "id": "3b35060a",
   "metadata": {},
   "outputs": [
    {
     "name": "stdout",
     "output_type": "stream",
     "text": [
      "Längden på sidan B är 4.9 l.e.\n"
     ]
    }
   ],
   "source": [
    "# Uppgift B) 5 + b = 7. Räkna ut kateten b\n",
    "hypoT = 7.0\n",
    "aS = 5.0\n",
    "bS = math.sqrt(pow(hypoT,2)- pow(aS,2)) \n",
    "print(f\"Längden på sidan B är {round(bS,1)} l.e.\")"
   ]
  },
  {
   "cell_type": "markdown",
   "id": "88e8e3d6",
   "metadata": {},
   "source": [
    "\n",
    "# 2. Classification accuracy\n",
    "- en maskininlärnings algoritm har lärt sig förutspå vädret. Av 365 dagar får det 300 korrekta utfall. Beräkna modellens noggranhet.\n"
   ]
  },
  {
   "cell_type": "code",
   "execution_count": 1,
   "id": "0d7986a5",
   "metadata": {},
   "outputs": [
    {
     "name": "stdout",
     "output_type": "stream",
     "text": [
      "Modellens förmåga att förespå rätt väder ligger på 82.19 % noggrannhet!\n"
     ]
    }
   ],
   "source": [
    "# Övning 2) Klassificeringsnogrannhet\n",
    "predictions = 365\n",
    "correctPredict = 300\n",
    "accuracy = correctPredict / predictions\n",
    "accuracy = round(accuracy* 100,2)\n",
    "print(f\"Modellens förmåga att förespå rätt väder ligger på {accuracy} % noggrannhet!\")"
   ]
  },
  {
   "cell_type": "markdown",
   "id": "d248da34",
   "metadata": {},
   "source": [
    "\n",
    "# 3. Classification accuracy\n",
    "\n",
    "- en maskininlärnings modell har tränats att upptäcka bränder.\n"
   ]
  },
  {
   "cell_type": "code",
   "execution_count": null,
   "id": "5a14e2c5",
   "metadata": {},
   "outputs": [
    {
     "name": "stdout",
     "output_type": "stream",
     "text": [
      "Modellens noggrannhet att upptäcka en brand är på 98.7 %.\n"
     ]
    },
    {
     "data": {
      "text/plain": [
       "'Nej, det är ingen bra modell.\\nantalet verkliga bränder är totalt 13 st men man missar 11 av dem, vilket hög % av felberäking.'"
      ]
     },
     "execution_count": 2,
     "metadata": {},
     "output_type": "execute_result"
    }
   ],
   "source": [
    "# Övning 3) Mäta modellens nogrannhet.\n",
    "TP = 2\n",
    "FP = 2\n",
    "FN = 11\n",
    "TN = 985\n",
    "# Räknemodell för nogrannhet. noggrannhet = tp+tn/ tp+tn+fp+fn\n",
    "\n",
    "accuracy = (TP + TN)/ (TP+TN+FP+FN)\n",
    "accuracy = round(accuracy*100,2)\n",
    "print(f\"Modellens noggrannhet att upptäcka en brand är på {accuracy} %.\")\n",
    "\n",
    "'''Nej, det är ingen bra modell.\n",
    "antalet verkliga bränder är totalt 13 st men man missar 11 av dem, vilket hög % av felberäking.'''"
   ]
  },
  {
   "cell_type": "markdown",
   "id": "501e68da",
   "metadata": {},
   "source": [
    "\n",
    "# 4. Line\n",
    "\n",
    "- beräkna linjens lutningen av k och den konstanta värdet m ($y = kx + m$) med hjälp av punkterna A: (4,4) och B:(0,1)\n",
    "    $$y = kx +m$$"
   ]
  },
  {
   "cell_type": "code",
   "execution_count": 6,
   "id": "63994d62",
   "metadata": {},
   "outputs": [
    {
     "name": "stdout",
     "output_type": "stream",
     "text": [
      "k = 0.75\n",
      "m = 1\n",
      "Den räta linjens ekvation är Y = 0.75x + 1.\n"
     ]
    }
   ],
   "source": [
    "# Övning 4.Beräkna k== lutningen. formeln y = kx + m \n",
    "# A.(4,4), B.(0,1)\n",
    "yDelt = 4 - 1\n",
    "xDelt = 4 - 0\n",
    "k = yDelt/ xDelt\n",
    "print(f\"k = {k}\")\n",
    "# härnäst beräknas m i formeln.\n",
    "y = 4\n",
    "x = 4\n",
    "k = k\n",
    "m = int(y-(k*x))\n",
    "print(f\"m = {m}\")\n",
    "print(f\"Den räta linjens ekvation är Y = {k}x + {m}.\")"
   ]
  },
  {
   "cell_type": "markdown",
   "id": "794f9022",
   "metadata": {},
   "source": [
    "\n",
    "# 5. Euclidean distance\n"
   ]
  },
  {
   "cell_type": "code",
   "execution_count": 7,
   "id": "b6693475",
   "metadata": {},
   "outputs": [
    {
     "name": "stdout",
     "output_type": "stream",
     "text": [
      "avståndet är 5.1 l.e.\n"
     ]
    }
   ],
   "source": [
    "# Övning 5). Eculidean distans. Beräkna avståndet mellan två punkter.\n",
    "#P1= (3,5) och P2= (-2,4)\n",
    "import math\n",
    "x2, y2 = 3, 5 #P1\n",
    "x1, y1 = -2, 4 #P2\n",
    "\n",
    "distance2 = math.pow(x2-x1,2) + math.pow(y2-y1,2)\n",
    "distance = math.sqrt(distance2)\n",
    "print(f\"avståndet är {round(distance,2)} l.e.\")\n"
   ]
  },
  {
   "cell_type": "markdown",
   "id": "db789fd0",
   "metadata": {},
   "source": [
    "\n",
    "# 6. Euclidean distance 3-D"
   ]
  },
  {
   "cell_type": "code",
   "execution_count": 8,
   "id": "38a02a0c",
   "metadata": {},
   "outputs": [
    {
     "name": "stdout",
     "output_type": "stream",
     "text": [
      "avståndet är 4.12 l.e.\n"
     ]
    }
   ],
   "source": [
    "# Övning 6\n",
    "import math\n",
    "x1 = 2\n",
    "y1 = 1\n",
    "z1 = 4\n",
    "p = (x1,y1,z1)\n",
    "\n",
    "x2 = 3\n",
    "y2 = 1\n",
    "z2 = 0\n",
    "q = (x2,y2,z2)\n",
    "\n",
    "distance3 = math.pow(x2-x1,2) + math.pow(y2-y1,2) +math.pow(z2-z1,2)\n",
    "distance = math.sqrt(distance3)\n",
    "print(f\"avståndet är {round(distance,2)} l.e.\")\n"
   ]
  }
 ],
 "metadata": {
  "kernelspec": {
   "display_name": "Python 3",
   "language": "python",
   "name": "python3"
  },
  "language_info": {
   "codemirror_mode": {
    "name": "ipython",
    "version": 3
   },
   "file_extension": ".py",
   "mimetype": "text/x-python",
   "name": "python",
   "nbconvert_exporter": "python",
   "pygments_lexer": "ipython3",
   "version": "3.13.7"
  }
 },
 "nbformat": 4,
 "nbformat_minor": 5
}
